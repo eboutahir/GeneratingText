{
 "cells": [
  {
   "cell_type": "markdown",
   "metadata": {},
   "source": [
    "# Text Generation using Bidirectional LSTM and Doc2Vec models\n",
    "\n",
    "The purpose of [this article](https://medium.com/@david.campion/text-generation-using-bidirectional-lstm-and-doc2vec-models-1-3-8979eb65cb3a) is to discuss about text generation, using machine learning approaches, especially neural networks.\n",
    "\n",
    "It is not the first article about it, and probably not the last. Actually, there is a lot of litterature about text generation using \"AI\" techniques, and some codes are available to generate texts from existing novels, trying to create new chapters for **\"Game of Thrones\"**, **\"Harry Potter\"**, or a new piece in the style of **Shakespears**. Sometimes with interesting results.\n",
    "\n",
    "Mainly, these approaches are using classic LSTM networks, and the are pretty fun to be experimented.\n",
    "\n",
    "However, generated texts provide a taste of unachievement. Generated sentences seems quite right, whith correct grammar and syntax, as if the neural network was understanding correctly the structure of a sentence. But the whole new text does not have great sense. If it is not complete nosense. \n",
    "\n",
    "This problem could come from the approach itself, using only LSTM to generate text word by word. But how can we improve them ? In this article, I will try to investigate a new way to generate sentences.\n",
    "\n",
    "It does not mean that I will use something completely different from LTSM : I am not, I will use LTSM network to generate sequences of words. However I will try to go further than a classic LSTM neural network and I will use an additional neural network (LSTM again), to select the best phrases.\n",
    "\n",
    "Then, this article can be used as a tutorial. It describes :\n",
    " 1. **how to train a neural network to generate sentences** (i.e. sequences of words), based on existing novels. I will use a bidirectional LSTM Architecture to perform that.\n",
    " 2. **how to train a neural network to select the best next sentence for given paragraph** (i.e. a sequence of sentences). I will also use a bidirectional LSTM archicture, in addition to a Doc2Vec model of the target novels.\n",
    "\n",
    "\n",
    "### Note about Data inputs\n",
    "As data inputs, I will not use texts which are not free in term of intellectual properties. So I will not train the solution to create a new chapter for **\"Game of Throne\"** or **\"Harry Potter\"**.\n",
    "Sorry about that, there is plenty of \"free\" text to perform such texts generation exercices and we can dive into the [Gutemberg project](http://www.gutenberg.org), which provides huge amount of texts (from [William Shakespears](http://www.gutenberg.org/ebooks/author/65) to [H.P. Lovecraft](http://www.gutenberg.org/ebooks/author/34724), or other great authors).\n",
    "\n",
    "However, I am also a french author of fantasy and Science fiction. So I will use my personnal material to create a new chapter of my stories, hoping it can help me in my next work!\n",
    "\n",
    "So, I will base this exercice on **\"Artistes et Phalanges\"**, a french fantasy novel I wrote over the 10 past years, wich I hope will be fair enough in term of data inputs. It contains more than 830 000 charaters.\n",
    "\n",
    "By the way, if you're a french reader and found of fantasy, you can find it on iBook store and Amazon Kindle for free... Please note I provide also the data for free on my github repository. Enjoy it!\n",
    "\n",
    "## 1. a Neural Network for Generating Sentences\n",
    "\n",
    "The first step is to generate sentences in the style of a given author.\n",
    "\n",
    "There is huge litterature about it, espacially using LSTM to perform such task. As this kind of network are working well for this job, we will use them.\n",
    "\n",
    "The purpose of this note is not to deep dive into LSTM description, you can find very great article about them and I suggest you to read [this article](http://karpathy.github.io/2015/05/21/rnn-effectiveness/) from Andrej Karpathy.\n",
    "\n",
    "You can also find easily existing code to perform text generation using LSTM. On my github, you can find two tutorials, one using [Tensorflow](https://github.com/campdav/text-rnn-tensorflow), and another one using [Keras](https://github.com/campdav/text-rnn-keras) (over tensorflow), that is easier to understand.\n",
    "\n",
    "For this first part of these exercice, I will re-use these materials, but with few improvements :\n",
    " - Instead of a simple _LSTM_, I will use a _bidirectional LSTM_. This network configuration converge faster than a single LSTM (less epochs are required), and from empiric tests, seems better in term of accuracy. You can have a look at [this article](https://machinelearningmastery.com/develop-bidirectional-lstm-sequence-classification-python-keras/) from Jason Brownlee, for a good tutorial about bidirectional LSTM.\n",
    " - I will use Keras, which require less complexity to create the network of is more readible than conventional Tensorflow code.\n",
    "\n",
    "### 1.1. What is the neural network task in our case ?\n",
    "\n",
    "LSTM (Long Short Term Memory) are very good for analysing sequences of values and predicting the next values from them. For example, LSTM could be a very good choice if you want to predict the very next point of a given time serie (assuming a correlation exist in the sequence).\n",
    "\n",
    "Talking about sentences and texts ; phrases (sentences) are basically sequences of words. So, it is natural to assume LSTM could be usefull to generate the next word of a given sentence.\n",
    "\n",
    "In summary, the objective of a LSTM neural network in this situation is to guess the next word of a given sentence.\n",
    "\n",
    "For example:\n",
    "What is the next word of this following sentence : \"he is walking down the\"\n",
    "\n",
    "Our neural net will take the sequence of words as input : \"he\", \"is\", \"walking\", ...\n",
    "Its ouput will be a matrix providing the probability for each word from the dictionnary to be the next one of the given sentence.\n",
    "\n",
    "Then, how will we build the complete text ? Simply iterating the process, by switching the setence by one word, including the new guessed word at its end. Then, we guess a new word for this new sentence. ad vitam aeternam.\n",
    "\n",
    "### 1.1.1. Process\n",
    "\n",
    "In order to do that, first, we build a dictionary containing all words from the novels we want to use.\n",
    "\n",
    " 1. read the data (the novels we want to use),\n",
    " 1. create the dictionnary of words,\n",
    " 2. create the list of sentences,\n",
    " 3. create the neural network,\n",
    " 4. train the neural network,\n",
    " 5. generate new sentences."
   ]
  },
  {
   "cell_type": "code",
   "execution_count": 1,
   "metadata": {},
   "outputs": [
    {
     "name": "stderr",
     "output_type": "stream",
     "text": [
      "Using TensorFlow backend.\n"
     ]
    }
   ],
   "source": [
    "from __future__ import print_function\n",
    "from keras.models import Sequential, Model\n",
    "from keras.layers import Dense, Activation, Dropout\n",
    "from keras.layers import LSTM, Input, Flatten, Bidirectional\n",
    "from keras.layers.normalization import BatchNormalization\n",
    "from keras.optimizers import Adam\n",
    "from keras.callbacks import EarlyStopping, ModelCheckpoint\n",
    "from keras.metrics import categorical_accuracy\n",
    "import numpy as np\n",
    "import random\n",
    "import sys\n",
    "import os\n",
    "import time\n",
    "import codecs\n",
    "import collections\n",
    "from six.moves import cPickle"
   ]
  },
  {
   "cell_type": "markdown",
   "metadata": {},
   "source": [
    "We have raw text and a lot of things have to be done to use them: split them in words list, etc.\n",
    "In order to do that, I use the spacy library which is incredible to deal with texts. For this exercice, I will only use very few options from spacy."
   ]
  },
  {
   "cell_type": "code",
   "execution_count": 2,
   "metadata": {},
   "outputs": [],
   "source": [
    "#import spacy, and french model\n",
    "import spacy\n",
    "import en_core_web_sm\n",
    "nlp = en_core_web_sm.load()"
   ]
  },
  {
   "cell_type": "markdown",
   "metadata": {},
   "source": [
    "# parameters"
   ]
  },
  {
   "cell_type": "markdown",
   "metadata": {},
   "source": [
    "# read data\n",
    "\n",
    "I create a specific function to create a list of words from raw text. I use spacy library, with a specific function to retrieve only lower character of the words and remove carriage returns (\\n).\n",
    "\n",
    "I am doing that because I want to reduce the number of potential words in my dictionnary, and I assume we do not have to avoid capital letters. Indeed, they are only part of the syntax of the text, it's shape, and do not deals with its sense."
   ]
  },
  {
   "cell_type": "code",
   "execution_count": 3,
   "metadata": {},
   "outputs": [],
   "source": [
    "save_dir = 'C:\\\\Users\\\\bouta\\\\Notebooks\\\\Text-Generation-using-Bidirectional-LSTM-and-Doc2Vec-models-master\\\\save' # directory to store models\n",
    "seq_length = 30 # sequence length\n",
    "sequences_step = 1 #step to create sequences\n",
    "vocab_file = os.path.join(save_dir, \"words_vocab.pkl\")"
   ]
  },
  {
   "cell_type": "code",
   "execution_count": 4,
   "metadata": {},
   "outputs": [],
   "source": [
    "def create_wordlist(doc):\n",
    "    wl = []\n",
    "    for word in doc:\n",
    "        if word.text not in (\"\\n\",\"\\n\\n\",'\\u2009','\\xa0'):\n",
    "            wl.append(word.text.lower())\n",
    "    return wl"
   ]
  },
  {
   "cell_type": "markdown",
   "metadata": {},
   "source": [
    "Create the list of sentences:"
   ]
  },
  {
   "cell_type": "code",
   "execution_count": 5,
   "metadata": {},
   "outputs": [],
   "source": [
    "wordlist = []\n",
    "with codecs.open('DeepLearning.txt', \"r\", encoding=\"utf8\") as f:\n",
    "    data = f.read()\n",
    "#create sentences\n",
    "doc = nlp(data)\n",
    "wl = create_wordlist(doc)\n",
    "wordlist = wordlist + wl"
   ]
  },
  {
   "cell_type": "markdown",
   "metadata": {},
   "source": [
    "## Create dictionnary\n",
    "\n",
    "The first step is to create the dictionnary, it means, the list of all words contained in texts. For each word, we will assign an index to it. "
   ]
  },
  {
   "cell_type": "code",
   "execution_count": 6,
   "metadata": {},
   "outputs": [
    {
     "name": "stdout",
     "output_type": "stream",
     "text": [
      "vocab size:  8318\n"
     ]
    }
   ],
   "source": [
    "# count the number of words\n",
    "word_counts = collections.Counter(wordlist)\n",
    "\n",
    "# Mapping from index to word : that's the vocabulary\n",
    "vocabulary_inv = [x[0] for x in word_counts.most_common()]\n",
    "vocabulary_inv = list(sorted(vocabulary_inv))\n",
    "\n",
    "# Mapping from word to index\n",
    "vocab = {x: i for i, x in enumerate(vocabulary_inv)}\n",
    "words = [x[0] for x in word_counts.most_common()]\n",
    "\n",
    "#size of the vocabulary\n",
    "vocab_size = len(words)\n",
    "print(\"vocab size: \", vocab_size)\n",
    "\n",
    "#save the words and vocabulary\n",
    "with open(os.path.join(vocab_file), 'wb') as f:\n",
    "    cPickle.dump((words, vocab, vocabulary_inv), f)"
   ]
  },
  {
   "cell_type": "markdown",
   "metadata": {},
   "source": [
    "## create sequences\n",
    "Now, we have to create the input data for our LSTM. We create two lists:\n",
    " - **sequences**: this list will contain the sequences of words used to train the model,\n",
    " - **next_words**: this list will contain the next words for each sequences of the **sequences** list.\n",
    " \n",
    "In this exercice, we assume we will train the network with sequences of 30 words (seq_length = 30).\n",
    "\n",
    "So, to create the first sequence of words, we take the 30th first words in the **wordlist** list. The word 31 is the next word of this first sequence, and is added to the **next_words** list.\n",
    "\n",
    "Then we jump by a step of 1 (sequences_step = 1 in our example) in the list of words, to create the second sequence of words and retrieve the second \"next word\".\n",
    "\n",
    "We iterate this task until the end of the list of words."
   ]
  },
  {
   "cell_type": "code",
   "execution_count": 7,
   "metadata": {},
   "outputs": [
    {
     "name": "stdout",
     "output_type": "stream",
     "text": [
      "nb sequences: 96285\n"
     ]
    }
   ],
   "source": [
    "#create sequences\n",
    "sequences = []\n",
    "next_words = []\n",
    "for i in range(0, len(wordlist) - seq_length, sequences_step):\n",
    "    sequences.append(wordlist[i: i + seq_length])\n",
    "    next_words.append(wordlist[i + seq_length])\n",
    "\n",
    "print('nb sequences:', len(sequences))"
   ]
  },
  {
   "cell_type": "markdown",
   "metadata": {},
   "source": [
    "When we iterate over the whole list of words, we create 172104 sequences of words, and retrieve, for each of them, the next word to be predicted.\n",
    "\n",
    "However, these lists cannot be used \"as is\". We have to transform them in order to ingest them in the LSTM. Text will not be understood by neural net, we have to use digits.\n",
    "However, we cannot only map a words to its index in the vocabulary, as it does not represent intrasinqly the word. It is better to reorganize a sequence of words as a matrix of booleans.\n",
    "\n",
    "So, we create the matrix X and y :\n",
    " - X : the matrix of the following dimensions:\n",
    "     - number of sequences,\n",
    "     - number of words in sequences,\n",
    "     - number of words in the vocabulary.\n",
    " - y : the matrix of the following dimensions:\n",
    "     - number of sequences,\n",
    "     - number of words in the vocabulary.\n",
    " \n",
    "For each word, we retrieve its index in the vocabulary, and we set to 1 its position in the matrix."
   ]
  },
  {
   "cell_type": "code",
   "execution_count": 8,
   "metadata": {},
   "outputs": [],
   "source": [
    "X = np.zeros((len(sequences), seq_length, vocab_size), dtype=np.bool)\n",
    "y = np.zeros((len(sequences), vocab_size), dtype=np.bool)\n",
    "for i, sentence in enumerate(sequences):\n",
    "    for t, word in enumerate(sentence):\n",
    "        X[i, t, vocab[word]] = 1\n",
    "    y[i, vocab[next_words[i]]] = 1"
   ]
  },
  {
   "cell_type": "markdown",
   "metadata": {},
   "source": [
    "# Build Model"
   ]
  },
  {
   "cell_type": "markdown",
   "metadata": {},
   "source": [
    "Now, here come the fun part. The creation of the neural network.\n",
    "As you will see, I am using Keras which provide very good abstraction to design an architecture.\n",
    "\n",
    "In this example, I create the following neural network:\n",
    " - bidirectional LSTM,\n",
    " - with size of 256 and using RELU as activation,\n",
    " - then a dropout layer of 0,6 (it's pretty high, but necesseray to avoid quick divergence)\n",
    " \n",
    "\n",
    "The net should provide me a probability for each word of the vocabulary to be the next one after a given sentence. So I end it with:\n",
    "\n",
    " - a simple dense layer of the size of the vocabulary,\n",
    " - a softmax activation.\n",
    " \n",
    "I use ADAM as otpimizer and the loss calculation is done on the categorical crossentropy.\n",
    "\n",
    "Here is the function to build the network:"
   ]
  },
  {
   "cell_type": "code",
   "execution_count": 9,
   "metadata": {},
   "outputs": [],
   "source": [
    "def bidirectional_lstm_model(seq_length, vocab_size):\n",
    "    print('Build LSTM model.')\n",
    "    model = Sequential()\n",
    "    model.add(Bidirectional(LSTM(rnn_size, activation=\"relu\"),input_shape=(seq_length, vocab_size)))\n",
    "    model.add(Dropout(0.6))\n",
    "    model.add(Dense(vocab_size))\n",
    "    model.add(Activation('softmax'))\n",
    "    \n",
    "    optimizer = Adam(lr=learning_rate)\n",
    "    callbacks=[EarlyStopping(patience=2, monitor='val_loss')]\n",
    "    model.compile(loss='categorical_crossentropy', optimizer=optimizer, metrics=[categorical_accuracy])\n",
    "    return model"
   ]
  },
  {
   "cell_type": "code",
   "execution_count": 10,
   "metadata": {},
   "outputs": [],
   "source": [
    "rnn_size = 256 # size of RNN\n",
    "batch_size = 32 # minibatch size\n",
    "seq_length = 30 # sequence length\n",
    "num_epochs = 50 # number of epochs\n",
    "learning_rate = 0.001 #learning rate\n",
    "sequences_step = 1 #step to create sequences"
   ]
  },
  {
   "cell_type": "code",
   "execution_count": 11,
   "metadata": {},
   "outputs": [
    {
     "name": "stdout",
     "output_type": "stream",
     "text": [
      "Build LSTM model.\n",
      "_________________________________________________________________\n",
      "Layer (type)                 Output Shape              Param #   \n",
      "=================================================================\n",
      "bidirectional_1 (Bidirection (None, 512)               17561600  \n",
      "_________________________________________________________________\n",
      "dropout_1 (Dropout)          (None, 512)               0         \n",
      "_________________________________________________________________\n",
      "dense_1 (Dense)              (None, 8318)              4267134   \n",
      "_________________________________________________________________\n",
      "activation_1 (Activation)    (None, 8318)              0         \n",
      "=================================================================\n",
      "Total params: 21,828,734\n",
      "Trainable params: 21,828,734\n",
      "Non-trainable params: 0\n",
      "_________________________________________________________________\n"
     ]
    }
   ],
   "source": [
    "md = bidirectional_lstm_model(seq_length, vocab_size)\n",
    "md.summary()"
   ]
  },
  {
   "cell_type": "markdown",
   "metadata": {},
   "source": [
    "If a print the summary of this model, you can see it has close to 61 millions of trainable parameters. It is huge, and the compute will take some time to complete."
   ]
  },
  {
   "cell_type": "markdown",
   "metadata": {},
   "source": [
    "## train data"
   ]
  },
  {
   "cell_type": "markdown",
   "metadata": {},
   "source": [
    "Enough speech, we train the model now. We shuffle the training set and extract 10% of it as validation sample. We simply run :"
   ]
  },
  {
   "cell_type": "code",
   "execution_count": null,
   "metadata": {
    "scrolled": true
   },
   "outputs": [
    {
     "name": "stdout",
     "output_type": "stream",
     "text": [
      "Train on 95322 samples, validate on 963 samples\n",
      "Epoch 1/50\n"
     ]
    },
    {
     "name": "stdout",
     "output_type": "stream",
     "text": [
      " 4320/95322 [>.............................] - ETA: 18:09:02 - loss: 9.0262 - categorical_accuracy: 0.0000e+ - ETA: 12:21:58 - loss: 9.0257 - categorical_accuracy: 0.0000e+ - ETA: 10:19:57 - loss: 9.0247 - categorical_accuracy: 0.0000e+ - ETA: 9:18:07 - loss: 9.0240 - categorical_accuracy: 0.0312     - ETA: 8:49:59 - loss: 9.0228 - categorical_accuracy: 0.050 - ETA: 8:36:46 - loss: 9.0217 - categorical_accuracy: 0.052 - ETA: 8:20:34 - loss: 9.0214 - categorical_accuracy: 0.044 - ETA: 8:06:53 - loss: 9.0202 - categorical_accuracy: 0.043 - ETA: 8:00:25 - loss: 9.0192 - categorical_accuracy: 0.038 - ETA: 7:55:07 - loss: 9.0179 - categorical_accuracy: 0.037 - ETA: 7:47:58 - loss: 9.0160 - categorical_accuracy: 0.045 - ETA: 7:45:02 - loss: 9.0136 - categorical_accuracy: 0.046 - ETA: 7:45:42 - loss: 9.0124 - categorical_accuracy: 0.043 - ETA: 7:44:38 - loss: 9.0094 - categorical_accuracy: 0.040 - ETA: 7:43:33 - loss: 9.0042 - categorical_accuracy: 0.037 - ETA: 7:40:33 - loss: 8.9846 - categorical_accuracy: 0.035 - ETA: 7:37:26 - loss: 8.9344 - categorical_accuracy: 0.036 - ETA: 7:33:55 - loss: 9.2682 - categorical_accuracy: 0.038 - ETA: 7:34:36 - loss: 9.3069 - categorical_accuracy: 0.039 - ETA: 7:33:08 - loss: 9.2614 - categorical_accuracy: 0.039 - ETA: 7:30:49 - loss: 9.2372 - categorical_accuracy: 0.037 - ETA: 7:28:47 - loss: 9.2136 - categorical_accuracy: 0.039 - ETA: 7:26:09 - loss: 9.1968 - categorical_accuracy: 0.038 - ETA: 7:24:01 - loss: 9.1839 - categorical_accuracy: 0.037 - ETA: 7:22:35 - loss: 9.1727 - categorical_accuracy: 0.036 - ETA: 7:19:53 - loss: 9.1621 - categorical_accuracy: 0.037 - ETA: 7:18:31 - loss: 9.1517 - categorical_accuracy: 0.040 - ETA: 7:19:49 - loss: 9.1437 - categorical_accuracy: 0.040 - ETA: 7:21:11 - loss: 9.1368 - categorical_accuracy: 0.038 - ETA: 7:20:03 - loss: 9.1296 - categorical_accuracy: 0.039 - ETA: 7:17:55 - loss: 9.1231 - categorical_accuracy: 0.041 - ETA: 7:15:42 - loss: 9.1173 - categorical_accuracy: 0.042 - ETA: 7:13:28 - loss: 9.1119 - categorical_accuracy: 0.040 - ETA: 7:11:17 - loss: 9.1067 - categorical_accuracy: 0.040 - ETA: 7:09:09 - loss: 9.1029 - categorical_accuracy: 0.040 - ETA: 7:07:02 - loss: 9.0977 - categorical_accuracy: 0.039 - ETA: 7:05:09 - loss: 9.0933 - categorical_accuracy: 0.038 - ETA: 7:03:13 - loss: 9.0893 - categorical_accuracy: 0.038 - ETA: 7:01:19 - loss: 9.0848 - categorical_accuracy: 0.038 - ETA: 6:59:34 - loss: 9.0817 - categorical_accuracy: 0.037 - ETA: 6:58:02 - loss: 9.0772 - categorical_accuracy: 0.036 - ETA: 6:56:25 - loss: 9.0736 - categorical_accuracy: 0.036 - ETA: 6:54:58 - loss: 9.0701 - categorical_accuracy: 0.035 - ETA: 6:55:03 - loss: 9.0671 - categorical_accuracy: 0.034 - ETA: 6:53:49 - loss: 9.0646 - categorical_accuracy: 0.034 - ETA: 6:52:41 - loss: 9.0620 - categorical_accuracy: 0.034 - ETA: 6:51:31 - loss: 9.0590 - categorical_accuracy: 0.033 - ETA: 6:50:19 - loss: 9.0560 - categorical_accuracy: 0.033 - ETA: 6:49:28 - loss: 9.0535 - categorical_accuracy: 0.033 - ETA: 6:48:20 - loss: 9.0502 - categorical_accuracy: 0.033 - ETA: 6:47:07 - loss: 9.0473 - categorical_accuracy: 0.034 - ETA: 6:46:19 - loss: 9.0446 - categorical_accuracy: 0.033 - ETA: 6:45:14 - loss: 9.0420 - categorical_accuracy: 0.033 - ETA: 6:44:23 - loss: 9.0397 - categorical_accuracy: 0.033 - ETA: 6:43:42 - loss: 9.0374 - categorical_accuracy: 0.033 - ETA: 6:43:26 - loss: 9.0347 - categorical_accuracy: 0.032 - ETA: 6:44:19 - loss: 9.0323 - categorical_accuracy: 0.032 - ETA: 6:44:53 - loss: 9.0297 - categorical_accuracy: 0.031 - ETA: 6:46:31 - loss: 9.0271 - categorical_accuracy: 0.031 - ETA: 6:47:42 - loss: 9.0253 - categorical_accuracy: 0.031 - ETA: 6:47:57 - loss: 9.0232 - categorical_accuracy: 0.031 - ETA: 6:49:52 - loss: 9.0214 - categorical_accuracy: 0.031 - ETA: 6:50:08 - loss: 9.0195 - categorical_accuracy: 0.031 - ETA: 6:50:22 - loss: 9.0176 - categorical_accuracy: 0.030 - ETA: 6:51:35 - loss: 9.0150 - categorical_accuracy: 0.030 - ETA: 6:53:13 - loss: 9.0130 - categorical_accuracy: 0.031 - ETA: 6:54:39 - loss: 9.0108 - categorical_accuracy: 0.030 - ETA: 6:55:19 - loss: 9.0087 - categorical_accuracy: 0.031 - ETA: 6:56:13 - loss: 9.0071 - categorical_accuracy: 0.030 - ETA: 6:56:48 - loss: 9.0047 - categorical_accuracy: 0.031 - ETA: 6:58:17 - loss: 9.0027 - categorical_accuracy: 0.031 - ETA: 6:59:54 - loss: 9.0005 - categorical_accuracy: 0.032 - ETA: 6:59:24 - loss: 8.9988 - categorical_accuracy: 0.031 - ETA: 6:59:10 - loss: 8.9971 - categorical_accuracy: 0.031 - ETA: 6:59:47 - loss: 8.9953 - categorical_accuracy: 0.031 - ETA: 7:01:26 - loss: 8.9933 - categorical_accuracy: 0.032 - ETA: 7:03:21 - loss: 8.9915 - categorical_accuracy: 0.032 - ETA: 7:04:34 - loss: 8.9896 - categorical_accuracy: 0.031 - ETA: 7:05:19 - loss: 8.9879 - categorical_accuracy: 0.031 - ETA: 7:04:56 - loss: 8.9858 - categorical_accuracy: 0.032 - ETA: 7:04:46 - loss: 8.9841 - categorical_accuracy: 0.032 - ETA: 7:04:31 - loss: 8.9816 - categorical_accuracy: 0.032 - ETA: 7:04:34 - loss: 8.9797 - categorical_accuracy: 0.032 - ETA: 7:04:44 - loss: 8.9781 - categorical_accuracy: 0.031 - ETA: 7:04:20 - loss: 8.9763 - categorical_accuracy: 0.031 - ETA: 7:03:57 - loss: 8.9748 - categorical_accuracy: 0.030 - ETA: 7:03:36 - loss: 8.9733 - categorical_accuracy: 0.030 - ETA: 7:04:22 - loss: 8.9714 - categorical_accuracy: 0.030 - ETA: 7:04:28 - loss: 8.9699 - categorical_accuracy: 0.030 - ETA: 7:04:39 - loss: 8.9682 - categorical_accuracy: 0.030 - ETA: 7:06:58 - loss: 8.9661 - categorical_accuracy: 0.029 - ETA: 7:07:55 - loss: 8.9644 - categorical_accuracy: 0.029 - ETA: 7:08:15 - loss: 8.9616 - categorical_accuracy: 0.030 - ETA: 7:08:04 - loss: 8.9599 - categorical_accuracy: 0.029 - ETA: 7:09:48 - loss: 8.9582 - categorical_accuracy: 0.029 - ETA: 7:10:38 - loss: 8.9560 - categorical_accuracy: 0.029 - ETA: 7:10:24 - loss: 8.9543 - categorical_accuracy: 0.029 - ETA: 7:09:38 - loss: 8.9524 - categorical_accuracy: 0.029 - ETA: 7:09:42 - loss: 8.9499 - categorical_accuracy: 0.029 - ETA: 7:09:40 - loss: 8.9474 - categorical_accuracy: 0.029 - ETA: 7:09:39 - loss: 8.9445 - categorical_accuracy: 0.029 - ETA: 7:09:00 - loss: 8.9415 - categorical_accuracy: 0.029 - ETA: 7:08:20 - loss: 8.9382 - categorical_accuracy: 0.028 - ETA: 7:07:55 - loss: 8.9351 - categorical_accuracy: 0.028 - ETA: 7:08:31 - loss: 8.9330 - categorical_accuracy: 0.028 - ETA: 7:08:57 - loss: 8.9307 - categorical_accuracy: 0.028 - ETA: 7:08:44 - loss: 8.9270 - categorical_accuracy: 0.028 - ETA: 7:08:30 - loss: 8.9248 - categorical_accuracy: 0.027 - ETA: 7:08:51 - loss: 8.9220 - categorical_accuracy: 0.027 - ETA: 7:10:31 - loss: 8.9196 - categorical_accuracy: 0.027 - ETA: 7:11:13 - loss: 8.9157 - categorical_accuracy: 0.027 - ETA: 7:11:35 - loss: 8.9119 - categorical_accuracy: 0.027 - ETA: 7:12:21 - loss: 8.9081 - categorical_accuracy: 0.027 - ETA: 7:12:28 - loss: 8.9044 - categorical_accuracy: 0.027 - ETA: 7:12:29 - loss: 8.9014 - categorical_accuracy: 0.026 - ETA: 7:12:37 - loss: 8.8985 - categorical_accuracy: 0.026 - ETA: 7:12:19 - loss: 8.8919 - categorical_accuracy: 0.026 - ETA: 7:12:42 - loss: 8.8857 - categorical_accuracy: 0.026 - ETA: 7:12:25 - loss: 8.8796 - categorical_accuracy: 0.026 - ETA: 7:12:05 - loss: 8.8709 - categorical_accuracy: 0.025 - ETA: 7:11:45 - loss: 8.8625 - categorical_accuracy: 0.025 - ETA: 7:11:31 - loss: 8.8499 - categorical_accuracy: 0.025 - ETA: 7:11:26 - loss: 8.8361 - categorical_accuracy: 0.025 - ETA: 7:11:48 - loss: 8.8265 - categorical_accuracy: 0.025 - ETA: 7:12:00 - loss: 8.8187 - categorical_accuracy: 0.025 - ETA: 7:11:48 - loss: 8.8065 - categorical_accuracy: 0.025 - ETA: 7:11:24 - loss: 8.7918 - categorical_accuracy: 0.025 - ETA: 7:10:53 - loss: 8.7816 - categorical_accuracy: 0.025 - ETA: 7:10:31 - loss: 8.7697 - categorical_accuracy: 0.025 - ETA: 7:10:15 - loss: 8.7589 - categorical_accuracy: 0.025 - ETA: 7:10:07 - loss: 8.7443 - categorical_accuracy: 0.025 - ETA: 7:10:23 - loss: 8.7345 - categorical_accuracy: 0.025 - ETA: 7:10:39 - loss: 8.7175 - categorical_accuracy: 0.025 - ETA: 7:10:46 - loss: 8.7075 - categorical_accuracy: 0.025 - ETA: 7:10:58 - loss: 8.6925 - categorical_accuracy: 0.0255\b\b\b\b\b\b\b\b\b\b\b\b\b\b\b\b\b\b\b\b\b\b\b\b\b\b\b\b\b\b\b\b\b\b\b\b\b\b\b\b\b\b\b\b\b\b\b\b\b\b\b\b\b\b\b\b\b\b\b\b\b\b\b\b\b\b\b\b\b\b\b\b\b\b\b\b\b\b\b\b\b\b\b\b\b\b\b\b\b\b\b\b\b\b\b\b\b\b\b\b\b\b\b\b\b"
     ]
    },
    {
     "name": "stdout",
     "output_type": "stream",
     "text": [
      " 5568/95322 [>.............................] - ETA: 7:10:51 - loss: 8.6769 - categorical_accuracy: 0.025 - ETA: 7:11:15 - loss: 8.6670 - categorical_accuracy: 0.025 - ETA: 7:11:40 - loss: 8.6624 - categorical_accuracy: 0.025 - ETA: 7:11:54 - loss: 8.6496 - categorical_accuracy: 0.025 - ETA: 7:11:42 - loss: 8.6379 - categorical_accuracy: 0.025 - ETA: 7:11:27 - loss: 8.6261 - categorical_accuracy: 0.025 - ETA: 7:11:11 - loss: 8.6128 - categorical_accuracy: 0.025 - ETA: 7:10:43 - loss: 8.6048 - categorical_accuracy: 0.025 - ETA: 7:10:06 - loss: 8.5923 - categorical_accuracy: 0.025 - ETA: 7:09:28 - loss: 8.5810 - categorical_accuracy: 0.025 - ETA: 7:08:50 - loss: 8.5715 - categorical_accuracy: 0.025 - ETA: 7:09:20 - loss: 8.5624 - categorical_accuracy: 0.025 - ETA: 7:09:40 - loss: 8.5493 - categorical_accuracy: 0.026 - ETA: 7:09:42 - loss: 8.5407 - categorical_accuracy: 0.026 - ETA: 7:09:26 - loss: 8.5322 - categorical_accuracy: 0.026 - ETA: 7:08:59 - loss: 8.5216 - categorical_accuracy: 0.026 - ETA: 7:08:45 - loss: 8.5073 - categorical_accuracy: 0.026 - ETA: 7:08:10 - loss: 8.4977 - categorical_accuracy: 0.026 - ETA: 7:07:33 - loss: 8.4829 - categorical_accuracy: 0.027 - ETA: 7:06:57 - loss: 8.4732 - categorical_accuracy: 0.026 - ETA: 7:06:21 - loss: 8.4592 - categorical_accuracy: 0.027 - ETA: 7:05:48 - loss: 8.4492 - categorical_accuracy: 0.027 - ETA: 7:05:22 - loss: 8.4354 - categorical_accuracy: 0.027 - ETA: 7:05:04 - loss: 8.4213 - categorical_accuracy: 0.027 - ETA: 7:04:43 - loss: 8.4093 - categorical_accuracy: 0.028 - ETA: 7:04:33 - loss: 8.4067 - categorical_accuracy: 0.028 - ETA: 7:04:08 - loss: 8.3977 - categorical_accuracy: 0.028 - ETA: 7:03:37 - loss: 8.3900 - categorical_accuracy: 0.028 - ETA: 7:03:11 - loss: 8.3826 - categorical_accuracy: 0.028 - ETA: 7:02:55 - loss: 8.3735 - categorical_accuracy: 0.028 - ETA: 7:02:39 - loss: 8.3667 - categorical_accuracy: 0.028 - ETA: 7:02:16 - loss: 8.3587 - categorical_accuracy: 0.028 - ETA: 7:01:48 - loss: 8.3519 - categorical_accuracy: 0.028 - ETA: 7:01:21 - loss: 8.3431 - categorical_accuracy: 0.028 - ETA: 7:01:20 - loss: 8.3316 - categorical_accuracy: 0.028 - ETA: 7:01:08 - loss: 8.3235 - categorical_accuracy: 0.028 - ETA: 7:01:14 - loss: 8.3173 - categorical_accuracy: 0.028 - ETA: 7:01:15 - loss: 8.3088 - categorical_accuracy: 0.028 - ETA: 7:00:55 - loss: 8.2958 - categorical_accuracy: 0.0284"
     ]
    }
   ],
   "source": [
    "#fit the model\n",
    "callbacks=[EarlyStopping(patience=4, monitor='val_loss'),\n",
    "           ModelCheckpoint(filepath=save_dir + \"/\" + 'my_model_gen_sentences_lstm.{epoch:02d}-{val_loss:.2f}.hdf5',\\\n",
    "                           monitor='val_loss', verbose=0, mode='auto', period=2)]\n",
    "history = md.fit(X, y,\n",
    "                 batch_size=batch_size,\n",
    "                 shuffle=True,\n",
    "                 epochs=num_epochs,\n",
    "                 callbacks=callbacks,\n",
    "                 validation_split=0.01)"
   ]
  },
  {
   "cell_type": "code",
   "execution_count": null,
   "metadata": {},
   "outputs": [],
   "source": [
    "#save the model\n",
    "md.save(save_dir + \"/\" + 'my_model_gen_sentences_lstm.final.hdf5')"
   ]
  },
  {
   "cell_type": "markdown",
   "metadata": {},
   "source": [
    "# Generate phrase"
   ]
  },
  {
   "cell_type": "markdown",
   "metadata": {},
   "source": [
    "Great !\n",
    "We have now trained a model to predict the next word of a given sequence of words. In order to generate text, the task is pretty simple:\n",
    "\n",
    " - we define a \"seed\" sequence of 30 words (30 is the number of words required by the neural net for the sequences),\n",
    " - we ask the neural net to predict word number 31,\n",
    " - then we update the sequence by moving words by a step of 1, adding words number 31 at its end,\n",
    " - we ask the neural net to predict word number 32,\n",
    " - etc. For as long as we want.\n",
    " \n",
    "Doing this, we generate phrases, word by word."
   ]
  },
  {
   "cell_type": "code",
   "execution_count": null,
   "metadata": {},
   "outputs": [],
   "source": [
    "#load vocabulary\n",
    "print(\"loading vocabulary...\")\n",
    "vocab_file = os.path.join(save_dir, \"words_vocab.pkl\")\n",
    "\n",
    "with open(os.path.join(save_dir, 'words_vocab.pkl'), 'rb') as f:\n",
    "        words, vocab, vocabulary_inv = cPickle.load(f)\n",
    "\n",
    "vocab_size = len(words)"
   ]
  },
  {
   "cell_type": "code",
   "execution_count": null,
   "metadata": {},
   "outputs": [],
   "source": [
    "from keras.models import load_model\n",
    "# load the model\n",
    "print(\"loading model...\")\n",
    "model = load_model(save_dir + \"/\" + 'my_model_gen_sentences_lstm.final.hdf5')"
   ]
  },
  {
   "cell_type": "markdown",
   "metadata": {},
   "source": [
    "To improve the word generation, and tune a bit the prediction, we introduce a specific function to pick-up words.\n",
    "\n",
    "We will not take the words with the highest prediction (or the generation of text will be boring), but would like to insert some uncertainties, and let the solution sometime pick-up words with less good prediction.\n",
    "\n",
    "That is the purpose of the function **sample**, that will draw radomly a word from the vocabulary.\n",
    "\n",
    "The probabilty for a word to be drawn will depends directly on its probability to be the next word. In order to tune this probability, we introduce a \"temperature\" to smooth or sharpen its value."
   ]
  },
  {
   "cell_type": "code",
   "execution_count": null,
   "metadata": {},
   "outputs": [],
   "source": [
    "def sample(preds, temperature=1.0):\n",
    "    # helper function to sample an index from a probability array\n",
    "    preds = np.asarray(preds).astype('float64')\n",
    "    preds = np.log(preds) / temperature\n",
    "    exp_preds = np.exp(preds)\n",
    "    preds = exp_preds / np.sum(exp_preds)\n",
    "    probas = np.random.multinomial(1, preds, 1)\n",
    "    return np.argmax(probas)"
   ]
  },
  {
   "cell_type": "code",
   "execution_count": null,
   "metadata": {},
   "outputs": [],
   "source": [
    "#initiate sentences\n",
    "seed_sentences = \"nolan avance sur le chemin de pierre et grimpe les marches .\"\n",
    "generated = ''\n",
    "sentence = []\n",
    "for i in range (seq_length):\n",
    "    sentence.append(\"a\")\n",
    "\n",
    "seed = seed_sentences.split()\n",
    "\n",
    "for i in range(len(seed)):\n",
    "    sentence[seq_length-i-1]=seed[len(seed)-i-1]\n",
    "\n",
    "generated += ' '.join(sentence)\n",
    "print('Generating text with the following seed: \"' + ' '.join(sentence) + '\"')\n",
    "\n",
    "print ()"
   ]
  },
  {
   "cell_type": "code",
   "execution_count": null,
   "metadata": {},
   "outputs": [],
   "source": [
    "words_number = 100\n",
    "#generate the text\n",
    "for i in range(words_number):\n",
    "    #create the vector\n",
    "    x = np.zeros((1, seq_length, vocab_size))\n",
    "    for t, word in enumerate(sentence):\n",
    "        x[0, t, vocab[word]] = 1.\n",
    "    #print(x.shape)\n",
    "\n",
    "    #calculate next word\n",
    "    preds = model.predict(x, verbose=0)[0]\n",
    "    next_index = sample(preds, 0.34)\n",
    "    next_word = vocabulary_inv[next_index]\n",
    "\n",
    "    #add the next word to the text\n",
    "    generated += \" \" + next_word\n",
    "    # shift the sentence by one, and and the next word at its end\n",
    "    sentence = sentence[1:] + [next_word]\n",
    "\n",
    "print(generated)\n"
   ]
  },
  {
   "cell_type": "code",
   "execution_count": null,
   "metadata": {},
   "outputs": [],
   "source": []
  }
 ],
 "metadata": {
  "kernelspec": {
   "display_name": "Python 3",
   "language": "python",
   "name": "python3"
  },
  "language_info": {
   "codemirror_mode": {
    "name": "ipython",
    "version": 3
   },
   "file_extension": ".py",
   "mimetype": "text/x-python",
   "name": "python",
   "nbconvert_exporter": "python",
   "pygments_lexer": "ipython3",
   "version": "3.5.6"
  }
 },
 "nbformat": 4,
 "nbformat_minor": 2
}
